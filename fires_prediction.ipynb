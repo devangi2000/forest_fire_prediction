{
 "cells": [
  {
   "cell_type": "code",
   "execution_count": 2,
   "metadata": {},
   "outputs": [],
   "source": [
    "import numpy as np\n",
    "import pandas as pd\n",
    "import seaborn as sns\n",
    "import matplotlib.pyplot as plt\n",
    "# import xgboost as xgb\n",
    "from scipy.stats import zscore\n",
    "from sklearn.metrics import mean_squared_error\n",
    "from sklearn.ensemble import RandomForestClassifier\n",
    "from sklearn.preprocessing import LabelEncoder\n",
    "from sklearn.model_selection import train_test_split\n",
    "\n",
    "%matplotlib inline"
   ]
  },
  {
   "cell_type": "code",
   "execution_count": 4,
   "metadata": {},
   "outputs": [],
   "source": [
    "pd.set_option('display.float_format', lambda x: '{:.4f}'.format(x))\n",
    "plt.rcParams['figure.figsize'] = [9,5]\n",
    "plt.style.use('ggplot')"
   ]
  },
  {
   "cell_type": "markdown",
   "metadata": {},
   "source": [
    "Changing the Defaults: rcParams\n",
    "Each time Matplotlib loads, it defines a runtime configuration (rc) containing the default styles for every plot element you create. This configuration can be adjusted at any time using the plt. rc convenience routine.\n",
    "The figsize attribute allows us to specify the width and height of a figure in unit inches"
   ]
  },
  {
   "cell_type": "markdown",
   "metadata": {},
   "source": [
    "## Load & Describe Dataset"
   ]
  },
  {
   "cell_type": "code",
   "execution_count": 5,
   "metadata": {},
   "outputs": [],
   "source": [
    "data_df = pd.read_csv('forestfires.csv')"
   ]
  },
  {
   "cell_type": "code",
   "execution_count": 6,
   "metadata": {},
   "outputs": [
    {
     "data": {
      "text/html": [
       "<div>\n",
       "<style scoped>\n",
       "    .dataframe tbody tr th:only-of-type {\n",
       "        vertical-align: middle;\n",
       "    }\n",
       "\n",
       "    .dataframe tbody tr th {\n",
       "        vertical-align: top;\n",
       "    }\n",
       "\n",
       "    .dataframe thead th {\n",
       "        text-align: right;\n",
       "    }\n",
       "</style>\n",
       "<table border=\"1\" class=\"dataframe\">\n",
       "  <thead>\n",
       "    <tr style=\"text-align: right;\">\n",
       "      <th></th>\n",
       "      <th>X</th>\n",
       "      <th>Y</th>\n",
       "      <th>month</th>\n",
       "      <th>day</th>\n",
       "      <th>FFMC</th>\n",
       "      <th>DMC</th>\n",
       "      <th>DC</th>\n",
       "      <th>ISI</th>\n",
       "      <th>temp</th>\n",
       "      <th>RH</th>\n",
       "      <th>wind</th>\n",
       "      <th>rain</th>\n",
       "      <th>area</th>\n",
       "    </tr>\n",
       "  </thead>\n",
       "  <tbody>\n",
       "    <tr>\n",
       "      <td>0</td>\n",
       "      <td>7</td>\n",
       "      <td>5</td>\n",
       "      <td>mar</td>\n",
       "      <td>fri</td>\n",
       "      <td>86.2000</td>\n",
       "      <td>26.2000</td>\n",
       "      <td>94.3000</td>\n",
       "      <td>5.1000</td>\n",
       "      <td>8.2000</td>\n",
       "      <td>51</td>\n",
       "      <td>6.7000</td>\n",
       "      <td>0.0000</td>\n",
       "      <td>0.0000</td>\n",
       "    </tr>\n",
       "    <tr>\n",
       "      <td>1</td>\n",
       "      <td>7</td>\n",
       "      <td>4</td>\n",
       "      <td>oct</td>\n",
       "      <td>tue</td>\n",
       "      <td>90.6000</td>\n",
       "      <td>35.4000</td>\n",
       "      <td>669.1000</td>\n",
       "      <td>6.7000</td>\n",
       "      <td>18.0000</td>\n",
       "      <td>33</td>\n",
       "      <td>0.9000</td>\n",
       "      <td>0.0000</td>\n",
       "      <td>0.0000</td>\n",
       "    </tr>\n",
       "    <tr>\n",
       "      <td>2</td>\n",
       "      <td>7</td>\n",
       "      <td>4</td>\n",
       "      <td>oct</td>\n",
       "      <td>sat</td>\n",
       "      <td>90.6000</td>\n",
       "      <td>43.7000</td>\n",
       "      <td>686.9000</td>\n",
       "      <td>6.7000</td>\n",
       "      <td>14.6000</td>\n",
       "      <td>33</td>\n",
       "      <td>1.3000</td>\n",
       "      <td>0.0000</td>\n",
       "      <td>0.0000</td>\n",
       "    </tr>\n",
       "    <tr>\n",
       "      <td>3</td>\n",
       "      <td>8</td>\n",
       "      <td>6</td>\n",
       "      <td>mar</td>\n",
       "      <td>fri</td>\n",
       "      <td>91.7000</td>\n",
       "      <td>33.3000</td>\n",
       "      <td>77.5000</td>\n",
       "      <td>9.0000</td>\n",
       "      <td>8.3000</td>\n",
       "      <td>97</td>\n",
       "      <td>4.0000</td>\n",
       "      <td>0.2000</td>\n",
       "      <td>0.0000</td>\n",
       "    </tr>\n",
       "    <tr>\n",
       "      <td>4</td>\n",
       "      <td>8</td>\n",
       "      <td>6</td>\n",
       "      <td>mar</td>\n",
       "      <td>sun</td>\n",
       "      <td>89.3000</td>\n",
       "      <td>51.3000</td>\n",
       "      <td>102.2000</td>\n",
       "      <td>9.6000</td>\n",
       "      <td>11.4000</td>\n",
       "      <td>99</td>\n",
       "      <td>1.8000</td>\n",
       "      <td>0.0000</td>\n",
       "      <td>0.0000</td>\n",
       "    </tr>\n",
       "  </tbody>\n",
       "</table>\n",
       "</div>"
      ],
      "text/plain": [
       "   X  Y month  day    FFMC     DMC       DC    ISI    temp  RH   wind   rain  \\\n",
       "0  7  5   mar  fri 86.2000 26.2000  94.3000 5.1000  8.2000  51 6.7000 0.0000   \n",
       "1  7  4   oct  tue 90.6000 35.4000 669.1000 6.7000 18.0000  33 0.9000 0.0000   \n",
       "2  7  4   oct  sat 90.6000 43.7000 686.9000 6.7000 14.6000  33 1.3000 0.0000   \n",
       "3  8  6   mar  fri 91.7000 33.3000  77.5000 9.0000  8.3000  97 4.0000 0.2000   \n",
       "4  8  6   mar  sun 89.3000 51.3000 102.2000 9.6000 11.4000  99 1.8000 0.0000   \n",
       "\n",
       "    area  \n",
       "0 0.0000  \n",
       "1 0.0000  \n",
       "2 0.0000  \n",
       "3 0.0000  \n",
       "4 0.0000  "
      ]
     },
     "execution_count": 6,
     "metadata": {},
     "output_type": "execute_result"
    }
   ],
   "source": [
    "data_df.head()"
   ]
  },
  {
   "cell_type": "code",
   "execution_count": 7,
   "metadata": {},
   "outputs": [
    {
     "data": {
      "text/plain": [
       "Index(['X', 'Y', 'month', 'day', 'FFMC', 'DMC', 'DC', 'ISI', 'temp', 'RH',\n",
       "       'wind', 'rain', 'area'],\n",
       "      dtype='object')"
      ]
     },
     "execution_count": 7,
     "metadata": {},
     "output_type": "execute_result"
    }
   ],
   "source": [
    "data_df.columns"
   ]
  },
  {
   "cell_type": "code",
   "execution_count": 8,
   "metadata": {},
   "outputs": [
    {
     "data": {
      "text/plain": [
       "(517, 13)"
      ]
     },
     "execution_count": 8,
     "metadata": {},
     "output_type": "execute_result"
    }
   ],
   "source": [
    "data_df.shape"
   ]
  },
  {
   "cell_type": "code",
   "execution_count": 9,
   "metadata": {},
   "outputs": [],
   "source": [
    "target = 'area'"
   ]
  },
  {
   "cell_type": "code",
   "execution_count": 10,
   "metadata": {},
   "outputs": [
    {
     "data": {
      "text/plain": [
       "X          int64\n",
       "Y          int64\n",
       "month     object\n",
       "day       object\n",
       "FFMC     float64\n",
       "DMC      float64\n",
       "DC       float64\n",
       "ISI      float64\n",
       "temp     float64\n",
       "RH         int64\n",
       "wind     float64\n",
       "rain     float64\n",
       "area     float64\n",
       "dtype: object"
      ]
     },
     "execution_count": 10,
     "metadata": {},
     "output_type": "execute_result"
    }
   ],
   "source": [
    "data_df.dtypes"
   ]
  },
  {
   "cell_type": "code",
   "execution_count": 11,
   "metadata": {},
   "outputs": [
    {
     "data": {
      "text/html": [
       "<div>\n",
       "<style scoped>\n",
       "    .dataframe tbody tr th:only-of-type {\n",
       "        vertical-align: middle;\n",
       "    }\n",
       "\n",
       "    .dataframe tbody tr th {\n",
       "        vertical-align: top;\n",
       "    }\n",
       "\n",
       "    .dataframe thead th {\n",
       "        text-align: right;\n",
       "    }\n",
       "</style>\n",
       "<table border=\"1\" class=\"dataframe\">\n",
       "  <thead>\n",
       "    <tr style=\"text-align: right;\">\n",
       "      <th></th>\n",
       "      <th>X</th>\n",
       "      <th>Y</th>\n",
       "      <th>FFMC</th>\n",
       "      <th>DMC</th>\n",
       "      <th>DC</th>\n",
       "      <th>ISI</th>\n",
       "      <th>temp</th>\n",
       "      <th>RH</th>\n",
       "      <th>wind</th>\n",
       "      <th>rain</th>\n",
       "      <th>area</th>\n",
       "    </tr>\n",
       "  </thead>\n",
       "  <tbody>\n",
       "    <tr>\n",
       "      <td>count</td>\n",
       "      <td>517.0000</td>\n",
       "      <td>517.0000</td>\n",
       "      <td>517.0000</td>\n",
       "      <td>517.0000</td>\n",
       "      <td>517.0000</td>\n",
       "      <td>517.0000</td>\n",
       "      <td>517.0000</td>\n",
       "      <td>517.0000</td>\n",
       "      <td>517.0000</td>\n",
       "      <td>517.0000</td>\n",
       "      <td>517.0000</td>\n",
       "    </tr>\n",
       "    <tr>\n",
       "      <td>mean</td>\n",
       "      <td>4.6692</td>\n",
       "      <td>4.2998</td>\n",
       "      <td>90.6447</td>\n",
       "      <td>110.8723</td>\n",
       "      <td>547.9400</td>\n",
       "      <td>9.0217</td>\n",
       "      <td>18.8892</td>\n",
       "      <td>44.2882</td>\n",
       "      <td>4.0176</td>\n",
       "      <td>0.0217</td>\n",
       "      <td>12.8473</td>\n",
       "    </tr>\n",
       "    <tr>\n",
       "      <td>std</td>\n",
       "      <td>2.3138</td>\n",
       "      <td>1.2299</td>\n",
       "      <td>5.5201</td>\n",
       "      <td>64.0465</td>\n",
       "      <td>248.0662</td>\n",
       "      <td>4.5595</td>\n",
       "      <td>5.8066</td>\n",
       "      <td>16.3175</td>\n",
       "      <td>1.7917</td>\n",
       "      <td>0.2960</td>\n",
       "      <td>63.6558</td>\n",
       "    </tr>\n",
       "    <tr>\n",
       "      <td>min</td>\n",
       "      <td>1.0000</td>\n",
       "      <td>2.0000</td>\n",
       "      <td>18.7000</td>\n",
       "      <td>1.1000</td>\n",
       "      <td>7.9000</td>\n",
       "      <td>0.0000</td>\n",
       "      <td>2.2000</td>\n",
       "      <td>15.0000</td>\n",
       "      <td>0.4000</td>\n",
       "      <td>0.0000</td>\n",
       "      <td>0.0000</td>\n",
       "    </tr>\n",
       "    <tr>\n",
       "      <td>25%</td>\n",
       "      <td>3.0000</td>\n",
       "      <td>4.0000</td>\n",
       "      <td>90.2000</td>\n",
       "      <td>68.6000</td>\n",
       "      <td>437.7000</td>\n",
       "      <td>6.5000</td>\n",
       "      <td>15.5000</td>\n",
       "      <td>33.0000</td>\n",
       "      <td>2.7000</td>\n",
       "      <td>0.0000</td>\n",
       "      <td>0.0000</td>\n",
       "    </tr>\n",
       "    <tr>\n",
       "      <td>50%</td>\n",
       "      <td>4.0000</td>\n",
       "      <td>4.0000</td>\n",
       "      <td>91.6000</td>\n",
       "      <td>108.3000</td>\n",
       "      <td>664.2000</td>\n",
       "      <td>8.4000</td>\n",
       "      <td>19.3000</td>\n",
       "      <td>42.0000</td>\n",
       "      <td>4.0000</td>\n",
       "      <td>0.0000</td>\n",
       "      <td>0.5200</td>\n",
       "    </tr>\n",
       "    <tr>\n",
       "      <td>75%</td>\n",
       "      <td>7.0000</td>\n",
       "      <td>5.0000</td>\n",
       "      <td>92.9000</td>\n",
       "      <td>142.4000</td>\n",
       "      <td>713.9000</td>\n",
       "      <td>10.8000</td>\n",
       "      <td>22.8000</td>\n",
       "      <td>53.0000</td>\n",
       "      <td>4.9000</td>\n",
       "      <td>0.0000</td>\n",
       "      <td>6.5700</td>\n",
       "    </tr>\n",
       "    <tr>\n",
       "      <td>max</td>\n",
       "      <td>9.0000</td>\n",
       "      <td>9.0000</td>\n",
       "      <td>96.2000</td>\n",
       "      <td>291.3000</td>\n",
       "      <td>860.6000</td>\n",
       "      <td>56.1000</td>\n",
       "      <td>33.3000</td>\n",
       "      <td>100.0000</td>\n",
       "      <td>9.4000</td>\n",
       "      <td>6.4000</td>\n",
       "      <td>1090.8400</td>\n",
       "    </tr>\n",
       "  </tbody>\n",
       "</table>\n",
       "</div>"
      ],
      "text/plain": [
       "             X        Y     FFMC      DMC       DC      ISI     temp       RH  \\\n",
       "count 517.0000 517.0000 517.0000 517.0000 517.0000 517.0000 517.0000 517.0000   \n",
       "mean    4.6692   4.2998  90.6447 110.8723 547.9400   9.0217  18.8892  44.2882   \n",
       "std     2.3138   1.2299   5.5201  64.0465 248.0662   4.5595   5.8066  16.3175   \n",
       "min     1.0000   2.0000  18.7000   1.1000   7.9000   0.0000   2.2000  15.0000   \n",
       "25%     3.0000   4.0000  90.2000  68.6000 437.7000   6.5000  15.5000  33.0000   \n",
       "50%     4.0000   4.0000  91.6000 108.3000 664.2000   8.4000  19.3000  42.0000   \n",
       "75%     7.0000   5.0000  92.9000 142.4000 713.9000  10.8000  22.8000  53.0000   \n",
       "max     9.0000   9.0000  96.2000 291.3000 860.6000  56.1000  33.3000 100.0000   \n",
       "\n",
       "          wind     rain      area  \n",
       "count 517.0000 517.0000  517.0000  \n",
       "mean    4.0176   0.0217   12.8473  \n",
       "std     1.7917   0.2960   63.6558  \n",
       "min     0.4000   0.0000    0.0000  \n",
       "25%     2.7000   0.0000    0.0000  \n",
       "50%     4.0000   0.0000    0.5200  \n",
       "75%     4.9000   0.0000    6.5700  \n",
       "max     9.4000   6.4000 1090.8400  "
      ]
     },
     "execution_count": 11,
     "metadata": {},
     "output_type": "execute_result"
    }
   ],
   "source": [
    "data_df.describe()"
   ]
  },
  {
   "cell_type": "markdown",
   "metadata": {},
   "source": [
    "As we can see, the count of every feature column is the same as the shape of the dataset. We observe that 50% (the middle of the data) also called median of feature columns('X', 'Y', 'DMC', 'ISI', 'RH', 'wind', 'rain', 'area') have higher mean value than median i.e data is right skewed. In all feature columns, column: 'area' is highly skewed.\n",
    "\n",
    "How do you handle right-skewed data?\n",
    "Here data are right-skewed, i.e., clustered at lower values. For a right skewed distribution, the mean is typically greater than the median. Also, the tail of the distribution on the right hand (positive) side is longer than on the left hand side. We will perform operations like:- square root, cube root, logarithmic, etc. to transform the data. If the data are left-skewed (clustered at higher values). We will perform operations like:- cube, square, etc."
   ]
  },
  {
   "cell_type": "code",
   "execution_count": 12,
   "metadata": {},
   "outputs": [
    {
     "data": {
      "text/plain": [
       "Series([], dtype: float64)"
      ]
     },
     "execution_count": 12,
     "metadata": {},
     "output_type": "execute_result"
    }
   ],
   "source": [
    "data_mis = (data_df.isnull().sum() / len(data_df)) * 100\n",
    "data_mis = data_mis.drop(data_mis[data_mis == 0].index).sort_values(ascending=False)\n",
    "data_mis "
   ]
  },
  {
   "cell_type": "code",
   "execution_count": 13,
   "metadata": {},
   "outputs": [
    {
     "data": {
      "text/html": [
       "<div>\n",
       "<style scoped>\n",
       "    .dataframe tbody tr th:only-of-type {\n",
       "        vertical-align: middle;\n",
       "    }\n",
       "\n",
       "    .dataframe tbody tr th {\n",
       "        vertical-align: top;\n",
       "    }\n",
       "\n",
       "    .dataframe thead th {\n",
       "        text-align: right;\n",
       "    }\n",
       "</style>\n",
       "<table border=\"1\" class=\"dataframe\">\n",
       "  <thead>\n",
       "    <tr style=\"text-align: right;\">\n",
       "      <th></th>\n",
       "      <th>Percentage</th>\n",
       "      <th>Id</th>\n",
       "    </tr>\n",
       "  </thead>\n",
       "  <tbody>\n",
       "  </tbody>\n",
       "</table>\n",
       "</div>"
      ],
      "text/plain": [
       "Empty DataFrame\n",
       "Columns: [Percentage, Id]\n",
       "Index: []"
      ]
     },
     "execution_count": 13,
     "metadata": {},
     "output_type": "execute_result"
    }
   ],
   "source": [
    "data_mis = pd.DataFrame({'Percentage': data_mis})\n",
    "data_mis['Id'] = data_mis.index\n",
    "data_mis.reset_index(drop=True, level=0, inplace=True)\n",
    "data_mis.head()"
   ]
  },
  {
   "cell_type": "code",
   "execution_count": 14,
   "metadata": {},
   "outputs": [],
   "source": [
    "dft = data_df.drop(columns=target)\n",
    "cate_columns = dft.select_dtypes(include='object').columns.tolist()\n",
    "nume_columns = dft.select_dtypes(exclude='object').columns.tolist()"
   ]
  },
  {
   "cell_type": "code",
   "execution_count": 15,
   "metadata": {},
   "outputs": [
    {
     "name": "stdout",
     "output_type": "stream",
     "text": [
      "Categorical columns: ['month', 'day']\n"
     ]
    }
   ],
   "source": [
    "print('Categorical columns:', cate_columns)"
   ]
  },
  {
   "cell_type": "code",
   "execution_count": 16,
   "metadata": {},
   "outputs": [
    {
     "name": "stdout",
     "output_type": "stream",
     "text": [
      "Numerical columns:  ['X', 'Y', 'FFMC', 'DMC', 'DC', 'ISI', 'temp', 'RH', 'wind', 'rain']\n"
     ]
    }
   ],
   "source": [
    "print('Numerical columns: ', nume_columns)"
   ]
  },
  {
   "cell_type": "code",
   "execution_count": 17,
   "metadata": {},
   "outputs": [
    {
     "name": "stdout",
     "output_type": "stream",
     "text": [
      "Skew: \n",
      "X       0.0362\n",
      "Y       0.4173\n",
      "FFMC   -6.5756\n",
      "DMC     0.5475\n",
      "DC     -1.1004\n",
      "ISI     2.5363\n",
      "temp   -0.3312\n",
      "RH      0.8629\n",
      "wind    0.5710\n",
      "rain   19.8163\n",
      "area   12.8469\n",
      "dtype: float64\n"
     ]
    }
   ],
   "source": [
    "print('Skew: \\n{}'.format(data_df.skew()))"
   ]
  },
  {
   "cell_type": "code",
   "execution_count": 18,
   "metadata": {},
   "outputs": [
    {
     "name": "stdout",
     "output_type": "stream",
     "text": [
      "Kurtosis: \n",
      " X       -1.1723\n",
      "Y        1.4206\n",
      "FFMC    67.0660\n",
      "DMC      0.2048\n",
      "DC      -0.2452\n",
      "ISI     21.4580\n",
      "temp     0.1362\n",
      "RH       0.4382\n",
      "wind     0.0543\n",
      "rain   421.2960\n",
      "area   194.1407\n",
      "dtype: float64\n"
     ]
    }
   ],
   "source": [
    "print('Kurtosis: \\n {}'.format(data_df.kurtosis()))"
   ]
  },
  {
   "cell_type": "markdown",
   "metadata": {},
   "source": [
    "Skew is the degree of distortion from a normal distribution. Skewed, meaning there are a minority of very large values.\n",
    "Why do we care if the data is skewed? If the response variable is skewed, the model will be trained on a much larger number of moderate observations, and will be less likely to successfully predict the price for the most expensive houses. The concept is the same as training a model on imbalanced categorical classes. If the values of a certain independent variable (feature) are skewed, depending on the model, skewness may violate model assumptions (e.g. logistic regression) or may impair the interpretation of feature importance.\n",
    "\n",
    "Kurtosis is all about the tails of the distribution — not the peakedness or flatness. It is used to describe the extreme values in one versus the other tail. It is actually the measure of outliers present in the distribution . High kurtosis in a data set is an indicator that data has heavy tails or outliers.\n",
    "Kurtosis is a measure of whether the data are heavy-tailed (profusion of outliers) or light-tailed (lack of outliers) relative to a normal distribution. Mesokurtic is the distribution which has similar kurtosis as normal distribution kurtosis, which is zero."
   ]
  },
  {
   "cell_type": "markdown",
   "metadata": {},
   "source": [
    "If skewness is positive, the data are positively skewed or skewed right, meaning that the right tail of the distribution is longer than the left. If skewness is negative, the data are negatively skewed or skewed left, meaning that the left tail is longer.\n",
    "\n",
    "If skewness is less than −1 or greater than +1, the distribution is highly skewed.\n",
    "If skewness is between −1 and −½ or between +½ and +1, the distribution is moderately skewed.\n",
    "If skewness is between −½ and +½, the distribution is approximately symmetric.\n"
   ]
  },
  {
   "cell_type": "markdown",
   "metadata": {},
   "source": [
    "A normal distribution has kurtosis exactly 3 (excess kurtosis exactly 0). Any distribution with kurtosis ≈3 (excess ≈0) is called mesokurtic.\n",
    "A distribution with kurtosis <3 (excess kurtosis <0 ) is called platykurtic. Compared to a normal distribution, its tails are shorter and thinner, and often its central peak is lower and broader.\n",
    "A distribution with kurtosis >3 (excess kurtosis >0) is called leptokurtic. Compared to a normal distribution, its tails are longer and fatter, and often its central peak is higher and sharper."
   ]
  },
  {
   "cell_type": "markdown",
   "metadata": {},
   "source": [
    "Feature columns:- 'ISI', & 'rain' have +ve skewness, value more than +1 so, they are right skewed.\n",
    "\n",
    "Feature columns:- 'FFMC', & 'temp' have -ve skewness, value less than -1 so, they are left skewed.\n",
    "\n",
    "Feature columns:- 'FFMC', 'ISI', & 'rain' have higher kurtosis value. i,e have outliers.\n",
    "\n",
    "Feature columns with (high, +ve, or -ve) outliers, skewness and kurtosis are:\n",
    "\n",
    "FFMC\n",
    "ISI\n",
    "rain"
   ]
  },
  {
   "cell_type": "code",
   "execution_count": 19,
   "metadata": {},
   "outputs": [
    {
     "data": {
      "image/png": "[encoded data removed]",
      "text/plain": [
       "<Figure size 1080x360 with 1 Axes>"
      ]
     },
     "metadata": {},
     "output_type": "display_data"
    }
   ],
   "source": [
    "plt.figure(figsize=(15,5))\n",
    "ax = sns.kdeplot(data_df[target], shade=True, color='b')\n",
    "plt.xticks([i for i in range(0, 1250, 50)])\n",
    "plt.show()"
   ]
  },
  {
   "cell_type": "code",
   "execution_count": 20,
   "metadata": {},
   "outputs": [
    {
     "data": {
      "image/png": "[encoded data removed]",
      "text/plain": [
       "<Figure size 1080x360 with 1 Axes>"
      ]
     },
     "metadata": {},
     "output_type": "display_data"
    }
   ],
   "source": [
    "plt.figure(figsize=(15,5))\n",
    "ax = sns.kdeplot(data_df['FFMC'], shade=True, color='b')\n",
    "plt.xticks([i for i in range(0, 100, 5)])\n",
    "plt.show()"
   ]
  },
  {
   "cell_type": "code",
   "execution_count": 21,
   "metadata": {},
   "outputs": [
    {
     "data": {
      "image/png": "[encoded data removed]",
      "text/plain": [
       "<Figure size 1080x360 with 1 Axes>"
      ]
     },
     "metadata": {},
     "output_type": "display_data"
    }
   ],
   "source": [
    "plt.figure(figsize=(15,5))\n",
    "ax = sns.kdeplot(data_df['ISI'], shade=True, color='b')\n",
    "plt.xticks([i for i in range(0, 100, 5)])\n",
    "plt.show()"
   ]
  },
  {
   "cell_type": "markdown",
   "metadata": {},
   "source": [
    "## OUTLIER ANALYSIS"
   ]
  },
  {
   "cell_type": "code",
   "execution_count": 22,
   "metadata": {},
   "outputs": [
    {
     "data": {
      "image/png": "[encoded data removed]",
      "text/plain": [
       "<Figure size 648x360 with 1 Axes>"
      ]
     },
     "metadata": {},
     "output_type": "display_data"
    }
   ],
   "source": [
    "outl_dect = sns.boxplot(data_df[target])"
   ]
  },
  {
   "cell_type": "code",
   "execution_count": 23,
   "metadata": {},
   "outputs": [
    {
     "data": {
      "image/png": "[encoded data removed]",
      "text/plain": [
       "<Figure size 648x360 with 1 Axes>"
      ]
     },
     "metadata": {},
     "output_type": "display_data"
    }
   ],
   "source": [
    "outl_dect = sns.boxplot(data_df['FFMC'])"
   ]
  },
  {
   "cell_type": "code",
   "execution_count": 24,
   "metadata": {},
   "outputs": [
    {
     "data": {
      "image/png": "[encoded data removed]",
      "text/plain": [
       "<Figure size 648x360 with 1 Axes>"
      ]
     },
     "metadata": {},
     "output_type": "display_data"
    }
   ],
   "source": [
    "outl_dect = sns.boxplot(data_df['ISI'])"
   ]
  },
  {
   "cell_type": "code",
   "execution_count": 25,
   "metadata": {},
   "outputs": [
    {
     "data": {
      "image/png": "[encoded data removed]",
      "text/plain": [
       "<Figure size 648x360 with 1 Axes>"
      ]
     },
     "metadata": {},
     "output_type": "display_data"
    }
   ],
   "source": [
    "outl_dect = sns.boxplot(data_df['rain'])"
   ]
  },
  {
   "cell_type": "code",
   "execution_count": 29,
   "metadata": {},
   "outputs": [],
   "source": [
    "outlier_columns = ['area', 'FFMC', 'ISI', 'rain']\n"
   ]
  },
  {
   "cell_type": "code",
   "execution_count": 32,
   "metadata": {},
   "outputs": [
    {
     "data": {
      "text/plain": [
       "area   12.8469\n",
       "FFMC   -6.5756\n",
       "ISI     2.5363\n",
       "rain   19.8163\n",
       "dtype: float64"
      ]
     },
     "execution_count": 32,
     "metadata": {},
     "output_type": "execute_result"
    }
   ],
   "source": [
    "(data_df[outlier_columns]).skew()"
   ]
  },
  {
   "cell_type": "code",
   "execution_count": 34,
   "metadata": {},
   "outputs": [
    {
     "data": {
      "text/plain": [
       "area     1.2178\n",
       "FFMC   -11.6754\n",
       "ISI     -0.9372\n",
       "rain    14.1730\n",
       "dtype: float64"
      ]
     },
     "execution_count": 34,
     "metadata": {},
     "output_type": "execute_result"
    }
   ],
   "source": [
    "np.log1p(data_df[outlier_columns]).skew()"
   ]
  },
  {
   "cell_type": "code",
   "execution_count": 35,
   "metadata": {},
   "outputs": [
    {
     "data": {
      "text/plain": [
       "area   194.1407\n",
       "FFMC    67.0660\n",
       "ISI     21.4580\n",
       "rain   421.2960\n",
       "dtype: float64"
      ]
     },
     "execution_count": 35,
     "metadata": {},
     "output_type": "execute_result"
    }
   ],
   "source": [
    "(data_df[outlier_columns]).kurtosis()"
   ]
  },
  {
   "cell_type": "code",
   "execution_count": 31,
   "metadata": {},
   "outputs": [
    {
     "data": {
      "text/plain": [
       "area     0.9457\n",
       "FFMC   185.4824\n",
       "ISI      2.5846\n",
       "rain   234.2400\n",
       "dtype: float64"
      ]
     },
     "execution_count": 31,
     "metadata": {},
     "output_type": "execute_result"
    }
   ],
   "source": [
    "np.log1p(data_df[outlier_columns]).kurtosis()"
   ]
  },
  {
   "cell_type": "markdown",
   "metadata": {},
   "source": [
    "Even after transformation we still have high skewness and kurtosis in FFMC & rain\n",
    "\n",
    "So we remove outliers by z-score method."
   ]
  },
  {
   "cell_type": "code",
   "execution_count": 36,
   "metadata": {},
   "outputs": [],
   "source": [
    "mask = data_df.loc[: , ['FFMC']].apply(zscore).abs() < 3"
   ]
  },
  {
   "cell_type": "code",
   "execution_count": 37,
   "metadata": {},
   "outputs": [
    {
     "data": {
      "text/plain": [
       "array([[ True],\n",
       "       [ True],\n",
       "       [ True],\n",
       "       [ True],\n",
       "       [ True],\n",
       "       [ True],\n",
       "       [ True],\n",
       "       [ True],\n",
       "       [ True],\n",
       "       [ True],\n",
       "       [ True],\n",
       "       [ True],\n",
       "       [False],\n",
       "       [ True],\n",
       "       [ True],\n",
       "       [ True],\n",
       "       [ True],\n",
       "       [ True],\n",
       "       [ True],\n",
       "       [ True],\n",
       "       [ True],\n",
       "       [ True],\n",
       "       [ True],\n",
       "       [ True],\n",
       "       [ True],\n",
       "       [ True],\n",
       "       [ True],\n",
       "       [ True],\n",
       "       [ True],\n",
       "       [ True],\n",
       "       [ True],\n",
       "       [ True],\n",
       "       [ True],\n",
       "       [ True],\n",
       "       [ True],\n",
       "       [ True],\n",
       "       [ True],\n",
       "       [ True],\n",
       "       [ True],\n",
       "       [ True],\n",
       "       [ True],\n",
       "       [ True],\n",
       "       [ True],\n",
       "       [ True],\n",
       "       [ True],\n",
       "       [ True],\n",
       "       [ True],\n",
       "       [ True],\n",
       "       [ True],\n",
       "       [ True],\n",
       "       [ True],\n",
       "       [ True],\n",
       "       [ True],\n",
       "       [ True],\n",
       "       [ True],\n",
       "       [ True],\n",
       "       [ True],\n",
       "       [ True],\n",
       "       [ True],\n",
       "       [ True],\n",
       "       [ True],\n",
       "       [ True],\n",
       "       [ True],\n",
       "       [ True],\n",
       "       [ True],\n",
       "       [ True],\n",
       "       [ True],\n",
       "       [ True],\n",
       "       [ True],\n",
       "       [ True],\n",
       "       [ True],\n",
       "       [ True],\n",
       "       [ True],\n",
       "       [ True],\n",
       "       [ True],\n",
       "       [ True],\n",
       "       [ True],\n",
       "       [ True],\n",
       "       [ True],\n",
       "       [ True],\n",
       "       [ True],\n",
       "       [ True],\n",
       "       [ True],\n",
       "       [ True],\n",
       "       [ True],\n",
       "       [ True],\n",
       "       [ True],\n",
       "       [ True],\n",
       "       [ True],\n",
       "       [ True],\n",
       "       [ True],\n",
       "       [ True],\n",
       "       [ True],\n",
       "       [ True],\n",
       "       [ True],\n",
       "       [ True],\n",
       "       [ True],\n",
       "       [False],\n",
       "       [ True],\n",
       "       [ True],\n",
       "       [ True],\n",
       "       [ True],\n",
       "       [ True],\n",
       "       [ True],\n",
       "       [ True],\n",
       "       [ True],\n",
       "       [ True],\n",
       "       [ True],\n",
       "       [ True],\n",
       "       [ True],\n",
       "       [ True],\n",
       "       [ True],\n",
       "       [ True],\n",
       "       [ True],\n",
       "       [ True],\n",
       "       [ True],\n",
       "       [ True],\n",
       "       [ True],\n",
       "       [ True],\n",
       "       [ True],\n",
       "       [ True],\n",
       "       [ True],\n",
       "       [ True],\n",
       "       [ True],\n",
       "       [ True],\n",
       "       [ True],\n",
       "       [ True],\n",
       "       [ True],\n",
       "       [ True],\n",
       "       [ True],\n",
       "       [False],\n",
       "       [ True],\n",
       "       [ True],\n",
       "       [ True],\n",
       "       [ True],\n",
       "       [ True],\n",
       "       [ True],\n",
       "       [ True],\n",
       "       [ True],\n",
       "       [ True],\n",
       "       [ True],\n",
       "       [ True],\n",
       "       [ True],\n",
       "       [ True],\n",
       "       [ True],\n",
       "       [ True],\n",
       "       [ True],\n",
       "       [ True],\n",
       "       [ True],\n",
       "       [ True],\n",
       "       [ True],\n",
       "       [ True],\n",
       "       [ True],\n",
       "       [ True],\n",
       "       [ True],\n",
       "       [ True],\n",
       "       [ True],\n",
       "       [ True],\n",
       "       [ True],\n",
       "       [ True],\n",
       "       [ True],\n",
       "       [ True],\n",
       "       [ True],\n",
       "       [ True],\n",
       "       [ True],\n",
       "       [ True],\n",
       "       [ True],\n",
       "       [ True],\n",
       "       [ True],\n",
       "       [ True],\n",
       "       [ True],\n",
       "       [ True],\n",
       "       [ True],\n",
       "       [ True],\n",
       "       [ True],\n",
       "       [ True],\n",
       "       [ True],\n",
       "       [ True],\n",
       "       [ True],\n",
       "       [ True],\n",
       "       [ True],\n",
       "       [ True],\n",
       "       [ True],\n",
       "       [ True],\n",
       "       [ True],\n",
       "       [ True],\n",
       "       [ True],\n",
       "       [ True],\n",
       "       [ True],\n",
       "       [ True],\n",
       "       [ True],\n",
       "       [ True],\n",
       "       [ True],\n",
       "       [ True],\n",
       "       [ True],\n",
       "       [ True],\n",
       "       [ True],\n",
       "       [ True],\n",
       "       [ True],\n",
       "       [False],\n",
       "       [ True],\n",
       "       [ True],\n",
       "       [ True],\n",
       "       [ True],\n",
       "       [ True],\n",
       "       [ True],\n",
       "       [ True],\n",
       "       [ True],\n",
       "       [ True],\n",
       "       [ True],\n",
       "       [ True],\n",
       "       [ True],\n",
       "       [ True],\n",
       "       [ True],\n",
       "       [ True],\n",
       "       [ True],\n",
       "       [ True],\n",
       "       [ True],\n",
       "       [ True],\n",
       "       [ True],\n",
       "       [ True],\n",
       "       [ True],\n",
       "       [ True],\n",
       "       [ True],\n",
       "       [ True],\n",
       "       [ True],\n",
       "       [ True],\n",
       "       [ True],\n",
       "       [ True],\n",
       "       [ True],\n",
       "       [ True],\n",
       "       [ True],\n",
       "       [ True],\n",
       "       [ True],\n",
       "       [ True],\n",
       "       [ True],\n",
       "       [ True],\n",
       "       [ True],\n",
       "       [ True],\n",
       "       [ True],\n",
       "       [ True],\n",
       "       [ True],\n",
       "       [ True],\n",
       "       [ True],\n",
       "       [ True],\n",
       "       [ True],\n",
       "       [ True],\n",
       "       [ True],\n",
       "       [ True],\n",
       "       [ True],\n",
       "       [ True],\n",
       "       [ True],\n",
       "       [ True],\n",
       "       [ True],\n",
       "       [ True],\n",
       "       [ True],\n",
       "       [ True],\n",
       "       [ True],\n",
       "       [ True],\n",
       "       [ True],\n",
       "       [ True],\n",
       "       [ True],\n",
       "       [ True],\n",
       "       [ True],\n",
       "       [ True],\n",
       "       [ True],\n",
       "       [ True],\n",
       "       [ True],\n",
       "       [ True],\n",
       "       [ True],\n",
       "       [ True],\n",
       "       [ True],\n",
       "       [ True],\n",
       "       [ True],\n",
       "       [ True],\n",
       "       [ True],\n",
       "       [ True],\n",
       "       [ True],\n",
       "       [ True],\n",
       "       [ True],\n",
       "       [ True],\n",
       "       [ True],\n",
       "       [ True],\n",
       "       [ True],\n",
       "       [ True],\n",
       "       [ True],\n",
       "       [ True],\n",
       "       [ True],\n",
       "       [ True],\n",
       "       [ True],\n",
       "       [ True],\n",
       "       [ True],\n",
       "       [ True],\n",
       "       [ True],\n",
       "       [ True],\n",
       "       [ True],\n",
       "       [ True],\n",
       "       [ True],\n",
       "       [ True],\n",
       "       [False],\n",
       "       [ True],\n",
       "       [ True],\n",
       "       [ True],\n",
       "       [ True],\n",
       "       [ True],\n",
       "       [ True],\n",
       "       [ True],\n",
       "       [ True],\n",
       "       [ True],\n",
       "       [ True],\n",
       "       [ True],\n",
       "       [ True],\n",
       "       [False],\n",
       "       [ True],\n",
       "       [ True],\n",
       "       [ True],\n",
       "       [ True],\n",
       "       [ True],\n",
       "       [ True],\n",
       "       [ True],\n",
       "       [ True],\n",
       "       [ True],\n",
       "       [ True],\n",
       "       [ True],\n",
       "       [ True],\n",
       "       [ True],\n",
       "       [ True],\n",
       "       [ True],\n",
       "       [ True],\n",
       "       [ True],\n",
       "       [ True],\n",
       "       [ True],\n",
       "       [ True],\n",
       "       [ True],\n",
       "       [ True],\n",
       "       [ True],\n",
       "       [ True],\n",
       "       [ True],\n",
       "       [ True],\n",
       "       [ True],\n",
       "       [ True],\n",
       "       [ True],\n",
       "       [ True],\n",
       "       [ True],\n",
       "       [ True],\n",
       "       [ True],\n",
       "       [ True],\n",
       "       [ True],\n",
       "       [ True],\n",
       "       [ True],\n",
       "       [ True],\n",
       "       [ True],\n",
       "       [ True],\n",
       "       [ True],\n",
       "       [ True],\n",
       "       [ True],\n",
       "       [ True],\n",
       "       [ True],\n",
       "       [ True],\n",
       "       [ True],\n",
       "       [ True],\n",
       "       [ True],\n",
       "       [ True],\n",
       "       [ True],\n",
       "       [ True],\n",
       "       [ True],\n",
       "       [ True],\n",
       "       [ True],\n",
       "       [ True],\n",
       "       [ True],\n",
       "       [ True],\n",
       "       [ True],\n",
       "       [ True],\n",
       "       [ True],\n",
       "       [ True],\n",
       "       [ True],\n",
       "       [ True],\n",
       "       [ True],\n",
       "       [ True],\n",
       "       [False],\n",
       "       [ True],\n",
       "       [ True],\n",
       "       [ True],\n",
       "       [ True],\n",
       "       [ True],\n",
       "       [ True],\n",
       "       [ True],\n",
       "       [ True],\n",
       "       [ True],\n",
       "       [ True],\n",
       "       [ True],\n",
       "       [ True],\n",
       "       [ True],\n",
       "       [ True],\n",
       "       [ True],\n",
       "       [ True],\n",
       "       [ True],\n",
       "       [ True],\n",
       "       [ True],\n",
       "       [ True],\n",
       "       [ True],\n",
       "       [ True],\n",
       "       [ True],\n",
       "       [ True],\n",
       "       [ True],\n",
       "       [ True],\n",
       "       [ True],\n",
       "       [ True],\n",
       "       [ True],\n",
       "       [ True],\n",
       "       [ True],\n",
       "       [ True],\n",
       "       [ True],\n",
       "       [ True],\n",
       "       [ True],\n",
       "       [ True],\n",
       "       [ True],\n",
       "       [ True],\n",
       "       [ True],\n",
       "       [ True],\n",
       "       [ True],\n",
       "       [ True],\n",
       "       [ True],\n",
       "       [ True],\n",
       "       [ True],\n",
       "       [ True],\n",
       "       [ True],\n",
       "       [ True],\n",
       "       [ True],\n",
       "       [ True],\n",
       "       [ True],\n",
       "       [ True],\n",
       "       [ True],\n",
       "       [ True],\n",
       "       [ True],\n",
       "       [ True],\n",
       "       [ True],\n",
       "       [ True],\n",
       "       [ True],\n",
       "       [ True],\n",
       "       [ True],\n",
       "       [ True],\n",
       "       [ True],\n",
       "       [ True],\n",
       "       [ True],\n",
       "       [ True],\n",
       "       [ True],\n",
       "       [ True],\n",
       "       [ True],\n",
       "       [ True],\n",
       "       [ True],\n",
       "       [ True],\n",
       "       [ True],\n",
       "       [ True],\n",
       "       [ True],\n",
       "       [ True],\n",
       "       [ True],\n",
       "       [ True],\n",
       "       [ True],\n",
       "       [ True],\n",
       "       [ True],\n",
       "       [ True],\n",
       "       [ True],\n",
       "       [ True],\n",
       "       [ True],\n",
       "       [ True],\n",
       "       [ True],\n",
       "       [ True],\n",
       "       [ True],\n",
       "       [ True],\n",
       "       [ True],\n",
       "       [ True],\n",
       "       [ True],\n",
       "       [ True],\n",
       "       [ True],\n",
       "       [ True],\n",
       "       [ True],\n",
       "       [ True],\n",
       "       [ True],\n",
       "       [ True],\n",
       "       [ True],\n",
       "       [ True],\n",
       "       [ True],\n",
       "       [ True],\n",
       "       [ True],\n",
       "       [ True],\n",
       "       [ True],\n",
       "       [ True],\n",
       "       [ True],\n",
       "       [ True],\n",
       "       [ True],\n",
       "       [ True],\n",
       "       [ True],\n",
       "       [ True],\n",
       "       [ True],\n",
       "       [ True],\n",
       "       [ True],\n",
       "       [ True],\n",
       "       [ True],\n",
       "       [ True],\n",
       "       [ True],\n",
       "       [ True],\n",
       "       [ True],\n",
       "       [ True],\n",
       "       [ True],\n",
       "       [ True],\n",
       "       [ True],\n",
       "       [ True],\n",
       "       [ True],\n",
       "       [ True],\n",
       "       [ True],\n",
       "       [ True],\n",
       "       [ True],\n",
       "       [ True],\n",
       "       [ True],\n",
       "       [ True],\n",
       "       [ True]])"
      ]
     },
     "execution_count": 37,
     "metadata": {},
     "output_type": "execute_result"
    }
   ],
   "source": [
    "mask.values"
   ]
  },
  {
   "cell_type": "code",
   "execution_count": 38,
   "metadata": {},
   "outputs": [
    {
     "data": {
      "text/plain": [
       "(510, 13)"
      ]
     },
     "execution_count": 38,
     "metadata": {},
     "output_type": "execute_result"
    }
   ],
   "source": [
    "data_df = data_df[mask.values]\n",
    "data_df.shape"
   ]
  },
  {
   "cell_type": "code",
   "execution_count": 39,
   "metadata": {},
   "outputs": [
    {
     "data": {
      "text/html": [
       "<div>\n",
       "<style scoped>\n",
       "    .dataframe tbody tr th:only-of-type {\n",
       "        vertical-align: middle;\n",
       "    }\n",
       "\n",
       "    .dataframe tbody tr th {\n",
       "        vertical-align: top;\n",
       "    }\n",
       "\n",
       "    .dataframe thead th {\n",
       "        text-align: right;\n",
       "    }\n",
       "</style>\n",
       "<table border=\"1\" class=\"dataframe\">\n",
       "  <thead>\n",
       "    <tr style=\"text-align: right;\">\n",
       "      <th></th>\n",
       "      <th>X</th>\n",
       "      <th>Y</th>\n",
       "      <th>month</th>\n",
       "      <th>day</th>\n",
       "      <th>FFMC</th>\n",
       "      <th>DMC</th>\n",
       "      <th>DC</th>\n",
       "      <th>ISI</th>\n",
       "      <th>temp</th>\n",
       "      <th>RH</th>\n",
       "      <th>wind</th>\n",
       "      <th>rain</th>\n",
       "      <th>area</th>\n",
       "    </tr>\n",
       "  </thead>\n",
       "  <tbody>\n",
       "    <tr>\n",
       "      <td>0</td>\n",
       "      <td>7</td>\n",
       "      <td>5</td>\n",
       "      <td>mar</td>\n",
       "      <td>fri</td>\n",
       "      <td>86.2000</td>\n",
       "      <td>26.2000</td>\n",
       "      <td>94.3000</td>\n",
       "      <td>5.1000</td>\n",
       "      <td>8.2000</td>\n",
       "      <td>51</td>\n",
       "      <td>6.7000</td>\n",
       "      <td>0.0000</td>\n",
       "      <td>0.0000</td>\n",
       "    </tr>\n",
       "    <tr>\n",
       "      <td>1</td>\n",
       "      <td>7</td>\n",
       "      <td>4</td>\n",
       "      <td>oct</td>\n",
       "      <td>tue</td>\n",
       "      <td>90.6000</td>\n",
       "      <td>35.4000</td>\n",
       "      <td>669.1000</td>\n",
       "      <td>6.7000</td>\n",
       "      <td>18.0000</td>\n",
       "      <td>33</td>\n",
       "      <td>0.9000</td>\n",
       "      <td>0.0000</td>\n",
       "      <td>0.0000</td>\n",
       "    </tr>\n",
       "    <tr>\n",
       "      <td>2</td>\n",
       "      <td>7</td>\n",
       "      <td>4</td>\n",
       "      <td>oct</td>\n",
       "      <td>sat</td>\n",
       "      <td>90.6000</td>\n",
       "      <td>43.7000</td>\n",
       "      <td>686.9000</td>\n",
       "      <td>6.7000</td>\n",
       "      <td>14.6000</td>\n",
       "      <td>33</td>\n",
       "      <td>1.3000</td>\n",
       "      <td>0.0000</td>\n",
       "      <td>0.0000</td>\n",
       "    </tr>\n",
       "    <tr>\n",
       "      <td>3</td>\n",
       "      <td>8</td>\n",
       "      <td>6</td>\n",
       "      <td>mar</td>\n",
       "      <td>fri</td>\n",
       "      <td>91.7000</td>\n",
       "      <td>33.3000</td>\n",
       "      <td>77.5000</td>\n",
       "      <td>9.0000</td>\n",
       "      <td>8.3000</td>\n",
       "      <td>97</td>\n",
       "      <td>4.0000</td>\n",
       "      <td>0.2000</td>\n",
       "      <td>0.0000</td>\n",
       "    </tr>\n",
       "    <tr>\n",
       "      <td>4</td>\n",
       "      <td>8</td>\n",
       "      <td>6</td>\n",
       "      <td>mar</td>\n",
       "      <td>sun</td>\n",
       "      <td>89.3000</td>\n",
       "      <td>51.3000</td>\n",
       "      <td>102.2000</td>\n",
       "      <td>9.6000</td>\n",
       "      <td>11.4000</td>\n",
       "      <td>99</td>\n",
       "      <td>1.8000</td>\n",
       "      <td>0.0000</td>\n",
       "      <td>0.0000</td>\n",
       "    </tr>\n",
       "  </tbody>\n",
       "</table>\n",
       "</div>"
      ],
      "text/plain": [
       "   X  Y month  day    FFMC     DMC       DC    ISI    temp  RH   wind   rain  \\\n",
       "0  7  5   mar  fri 86.2000 26.2000  94.3000 5.1000  8.2000  51 6.7000 0.0000   \n",
       "1  7  4   oct  tue 90.6000 35.4000 669.1000 6.7000 18.0000  33 0.9000 0.0000   \n",
       "2  7  4   oct  sat 90.6000 43.7000 686.9000 6.7000 14.6000  33 1.3000 0.0000   \n",
       "3  8  6   mar  fri 91.7000 33.3000  77.5000 9.0000  8.3000  97 4.0000 0.2000   \n",
       "4  8  6   mar  sun 89.3000 51.3000 102.2000 9.6000 11.4000  99 1.8000 0.0000   \n",
       "\n",
       "    area  \n",
       "0 0.0000  \n",
       "1 0.0000  \n",
       "2 0.0000  \n",
       "3 0.0000  \n",
       "4 0.0000  "
      ]
     },
     "execution_count": 39,
     "metadata": {},
     "output_type": "execute_result"
    }
   ],
   "source": [
    "data_df.head()"
   ]
  },
  {
   "cell_type": "markdown",
   "metadata": {},
   "source": [
    " Since most of the values in rain are 0.0, we convert it to a categorical column"
   ]
  },
  {
   "cell_type": "code",
   "execution_count": 40,
   "metadata": {},
   "outputs": [],
   "source": [
    "data_df['rain'] = data_df['rain'].apply(lambda x: int(x > 0.0))"
   ]
  },
  {
   "cell_type": "code",
   "execution_count": 41,
   "metadata": {},
   "outputs": [
    {
     "data": {
      "text/plain": [
       "0      0\n",
       "1      0\n",
       "2      0\n",
       "3      1\n",
       "4      0\n",
       "      ..\n",
       "512    0\n",
       "513    0\n",
       "514    0\n",
       "515    0\n",
       "516    0\n",
       "Name: rain, Length: 510, dtype: int64"
      ]
     },
     "execution_count": 41,
     "metadata": {},
     "output_type": "execute_result"
    }
   ],
   "source": [
    "data_df['rain']"
   ]
  },
  {
   "cell_type": "code",
   "execution_count": 42,
   "metadata": {},
   "outputs": [],
   "source": [
    "outlier_columns.remove('rain')\n",
    "data_df[outlier_columns] = np.log1p(data_df[outlier_columns])"
   ]
  },
  {
   "cell_type": "code",
   "execution_count": 43,
   "metadata": {},
   "outputs": [
    {
     "data": {
      "text/plain": [
       "area    1.2085\n",
       "FFMC   -1.8040\n",
       "ISI    -0.4344\n",
       "dtype: float64"
      ]
     },
     "execution_count": 43,
     "metadata": {},
     "output_type": "execute_result"
    }
   ],
   "source": [
    "data_df[outlier_columns].skew()"
   ]
  },
  {
   "cell_type": "code",
   "execution_count": 44,
   "metadata": {},
   "outputs": [
    {
     "data": {
      "text/plain": [
       "area   0.9234\n",
       "FFMC   4.8667\n",
       "ISI    1.1226\n",
       "dtype: float64"
      ]
     },
     "execution_count": 44,
     "metadata": {},
     "output_type": "execute_result"
    }
   ],
   "source": [
    "data_df[outlier_columns].kurtosis()"
   ]
  },
  {
   "cell_type": "code",
   "execution_count": 45,
   "metadata": {},
   "outputs": [
    {
     "data": {
      "text/html": [
       "<div>\n",
       "<style scoped>\n",
       "    .dataframe tbody tr th:only-of-type {\n",
       "        vertical-align: middle;\n",
       "    }\n",
       "\n",
       "    .dataframe tbody tr th {\n",
       "        vertical-align: top;\n",
       "    }\n",
       "\n",
       "    .dataframe thead th {\n",
       "        text-align: right;\n",
       "    }\n",
       "</style>\n",
       "<table border=\"1\" class=\"dataframe\">\n",
       "  <thead>\n",
       "    <tr style=\"text-align: right;\">\n",
       "      <th></th>\n",
       "      <th>X</th>\n",
       "      <th>Y</th>\n",
       "      <th>FFMC</th>\n",
       "      <th>DMC</th>\n",
       "      <th>DC</th>\n",
       "      <th>ISI</th>\n",
       "      <th>temp</th>\n",
       "      <th>RH</th>\n",
       "      <th>wind</th>\n",
       "      <th>rain</th>\n",
       "      <th>area</th>\n",
       "    </tr>\n",
       "  </thead>\n",
       "  <tbody>\n",
       "    <tr>\n",
       "      <td>count</td>\n",
       "      <td>510.0000</td>\n",
       "      <td>510.0000</td>\n",
       "      <td>510.0000</td>\n",
       "      <td>510.0000</td>\n",
       "      <td>510.0000</td>\n",
       "      <td>510.0000</td>\n",
       "      <td>510.0000</td>\n",
       "      <td>510.0000</td>\n",
       "      <td>510.0000</td>\n",
       "      <td>510.0000</td>\n",
       "      <td>510.0000</td>\n",
       "    </tr>\n",
       "    <tr>\n",
       "      <td>mean</td>\n",
       "      <td>4.6804</td>\n",
       "      <td>4.2941</td>\n",
       "      <td>4.5226</td>\n",
       "      <td>111.8376</td>\n",
       "      <td>550.4704</td>\n",
       "      <td>2.2285</td>\n",
       "      <td>18.9516</td>\n",
       "      <td>44.0294</td>\n",
       "      <td>4.0173</td>\n",
       "      <td>0.0157</td>\n",
       "      <td>1.1214</td>\n",
       "    </tr>\n",
       "    <tr>\n",
       "      <td>std</td>\n",
       "      <td>2.3205</td>\n",
       "      <td>1.2346</td>\n",
       "      <td>0.0350</td>\n",
       "      <td>63.8537</td>\n",
       "      <td>246.6307</td>\n",
       "      <td>0.4288</td>\n",
       "      <td>5.7899</td>\n",
       "      <td>15.9683</td>\n",
       "      <td>1.7888</td>\n",
       "      <td>0.1244</td>\n",
       "      <td>1.4014</td>\n",
       "    </tr>\n",
       "    <tr>\n",
       "      <td>min</td>\n",
       "      <td>1.0000</td>\n",
       "      <td>2.0000</td>\n",
       "      <td>4.3320</td>\n",
       "      <td>3.0000</td>\n",
       "      <td>7.9000</td>\n",
       "      <td>0.7419</td>\n",
       "      <td>2.2000</td>\n",
       "      <td>15.0000</td>\n",
       "      <td>0.4000</td>\n",
       "      <td>0.0000</td>\n",
       "      <td>0.0000</td>\n",
       "    </tr>\n",
       "    <tr>\n",
       "      <td>25%</td>\n",
       "      <td>3.0000</td>\n",
       "      <td>4.0000</td>\n",
       "      <td>4.5142</td>\n",
       "      <td>73.2500</td>\n",
       "      <td>442.3000</td>\n",
       "      <td>2.0412</td>\n",
       "      <td>15.6250</td>\n",
       "      <td>32.2500</td>\n",
       "      <td>2.7000</td>\n",
       "      <td>0.0000</td>\n",
       "      <td>0.0000</td>\n",
       "    </tr>\n",
       "    <tr>\n",
       "      <td>50%</td>\n",
       "      <td>4.0000</td>\n",
       "      <td>4.0000</td>\n",
       "      <td>4.5288</td>\n",
       "      <td>108.4000</td>\n",
       "      <td>664.2000</td>\n",
       "      <td>2.2407</td>\n",
       "      <td>19.3000</td>\n",
       "      <td>41.5000</td>\n",
       "      <td>4.0000</td>\n",
       "      <td>0.0000</td>\n",
       "      <td>0.4572</td>\n",
       "    </tr>\n",
       "    <tr>\n",
       "      <td>75%</td>\n",
       "      <td>7.0000</td>\n",
       "      <td>5.0000</td>\n",
       "      <td>4.5422</td>\n",
       "      <td>142.4000</td>\n",
       "      <td>714.2000</td>\n",
       "      <td>2.4849</td>\n",
       "      <td>22.8000</td>\n",
       "      <td>53.0000</td>\n",
       "      <td>4.9000</td>\n",
       "      <td>0.0000</td>\n",
       "      <td>2.0252</td>\n",
       "    </tr>\n",
       "    <tr>\n",
       "      <td>max</td>\n",
       "      <td>9.0000</td>\n",
       "      <td>9.0000</td>\n",
       "      <td>4.5768</td>\n",
       "      <td>291.3000</td>\n",
       "      <td>860.6000</td>\n",
       "      <td>4.0448</td>\n",
       "      <td>33.3000</td>\n",
       "      <td>99.0000</td>\n",
       "      <td>9.4000</td>\n",
       "      <td>1.0000</td>\n",
       "      <td>6.9956</td>\n",
       "    </tr>\n",
       "  </tbody>\n",
       "</table>\n",
       "</div>"
      ],
      "text/plain": [
       "             X        Y     FFMC      DMC       DC      ISI     temp       RH  \\\n",
       "count 510.0000 510.0000 510.0000 510.0000 510.0000 510.0000 510.0000 510.0000   \n",
       "mean    4.6804   4.2941   4.5226 111.8376 550.4704   2.2285  18.9516  44.0294   \n",
       "std     2.3205   1.2346   0.0350  63.8537 246.6307   0.4288   5.7899  15.9683   \n",
       "min     1.0000   2.0000   4.3320   3.0000   7.9000   0.7419   2.2000  15.0000   \n",
       "25%     3.0000   4.0000   4.5142  73.2500 442.3000   2.0412  15.6250  32.2500   \n",
       "50%     4.0000   4.0000   4.5288 108.4000 664.2000   2.2407  19.3000  41.5000   \n",
       "75%     7.0000   5.0000   4.5422 142.4000 714.2000   2.4849  22.8000  53.0000   \n",
       "max     9.0000   9.0000   4.5768 291.3000 860.6000   4.0448  33.3000  99.0000   \n",
       "\n",
       "          wind     rain     area  \n",
       "count 510.0000 510.0000 510.0000  \n",
       "mean    4.0173   0.0157   1.1214  \n",
       "std     1.7888   0.1244   1.4014  \n",
       "min     0.4000   0.0000   0.0000  \n",
       "25%     2.7000   0.0000   0.0000  \n",
       "50%     4.0000   0.0000   0.4572  \n",
       "75%     4.9000   0.0000   2.0252  \n",
       "max     9.4000   1.0000   6.9956  "
      ]
     },
     "execution_count": 45,
     "metadata": {},
     "output_type": "execute_result"
    }
   ],
   "source": [
    "data_df.describe()"
   ]
  },
  {
   "cell_type": "markdown",
   "metadata": {},
   "source": [
    "Dataset is ready for model preparation."
   ]
  },
  {
   "cell_type": "code",
   "execution_count": 46,
   "metadata": {},
   "outputs": [],
   "source": [
    "data_sel = data_df.copy()"
   ]
  },
  {
   "cell_type": "code",
   "execution_count": 47,
   "metadata": {},
   "outputs": [],
   "source": [
    "from sklearn.ensemble import RandomForestRegressor\n",
    "from sklearn import linear_model\n",
    "reg = linear_model.LinearRegression()"
   ]
  },
  {
   "cell_type": "code",
   "execution_count": 48,
   "metadata": {},
   "outputs": [],
   "source": [
    "le = LabelEncoder()\n",
    "data_sel['day'] = le.fit_transform(data_sel['day'])\n",
    "data_sel['month'] = le.fit_transform(data_sel['month'])"
   ]
  },
  {
   "cell_type": "code",
   "execution_count": 49,
   "metadata": {},
   "outputs": [],
   "source": [
    "X,y = data_sel.iloc[: , :-1], data_sel.iloc[: , -1]"
   ]
  },
  {
   "cell_type": "code",
   "execution_count": 50,
   "metadata": {},
   "outputs": [],
   "source": [
    "X_train,X_test, y_train, y_test = train_test_split(X, y, test_size=0.3, random_state=7)"
   ]
  },
  {
   "cell_type": "code",
   "execution_count": 62,
   "metadata": {},
   "outputs": [
    {
     "data": {
      "text/plain": [
       "LinearRegression(copy_X=True, fit_intercept=True, n_jobs=None, normalize=False)"
      ]
     },
     "execution_count": 62,
     "metadata": {},
     "output_type": "execute_result"
    }
   ],
   "source": [
    "reg.fit(X_train, y_train)"
   ]
  },
  {
   "cell_type": "code",
   "execution_count": 63,
   "metadata": {},
   "outputs": [
    {
     "data": {
      "text/plain": [
       "(1.6417463050032381,\n",
       " array([ 7.47614323e-02, -2.43439875e-02,  1.66774633e-02,  7.90570777e-03,\n",
       "        -2.71367806e-01,  2.96121350e-03, -1.11778622e-04, -1.60820233e-01,\n",
       "         1.23495859e-02, -2.87902858e-03,  9.77290916e-02, -8.07246273e-01]))"
      ]
     },
     "execution_count": 63,
     "metadata": {},
     "output_type": "execute_result"
    }
   ],
   "source": [
    "reg.intercept_, reg.coef_"
   ]
  },
  {
   "cell_type": "code",
   "execution_count": 64,
   "metadata": {},
   "outputs": [],
   "source": [
    "preds = reg.predict(X_test)"
   ]
  },
  {
   "cell_type": "code",
   "execution_count": 65,
   "metadata": {},
   "outputs": [
    {
     "data": {
      "text/plain": [
       "array([1.29794905, 1.15898998, 0.75216266, 1.61525909, 1.39227756,\n",
       "       1.56188969, 1.19870779, 1.09608566, 1.17167225, 1.13343101,\n",
       "       0.40907895, 1.13362875, 1.56564171, 0.99604602, 0.82816619,\n",
       "       1.23919482, 0.75824127, 1.38667828, 1.24729073, 1.21183318,\n",
       "       1.1951888 , 1.5476129 , 1.23077581, 1.40139933, 1.32133317,\n",
       "       1.14503565, 1.03152235, 1.0626838 , 1.26812433, 1.73650569,\n",
       "       1.33150231, 1.66341943, 1.20337439, 0.96088396, 1.38485278,\n",
       "       0.6608808 , 1.26173134, 1.09608566, 1.18053929, 0.96010742,\n",
       "       1.40215015, 1.24862032, 0.94193526, 1.23509638, 1.04548183,\n",
       "       0.96214324, 1.04058836, 1.17374221, 0.94752804, 1.28083585,\n",
       "       1.07645099, 1.25706112, 1.19695381, 1.58531618, 1.77448936,\n",
       "       1.31181047, 1.00817166, 1.49785693, 1.18796292, 1.7908271 ,\n",
       "       0.90690908, 1.36889747, 0.93560073, 1.00435457, 1.27733139,\n",
       "       0.43586139, 1.94660205, 1.03140026, 1.14434305, 1.02967161,\n",
       "       0.53578267, 1.41365046, 1.68242372, 0.8812939 , 1.28246632,\n",
       "       1.50158672, 1.50131195, 1.51019546, 1.04255105, 1.12374161,\n",
       "       1.14169043, 1.18796292, 1.37728793, 1.38032512, 0.75270926,\n",
       "       0.76198285, 0.81016123, 1.61231763, 0.96109961, 0.41015437,\n",
       "       1.38907259, 1.2955806 , 1.03465723, 1.23925083, 0.79844422,\n",
       "       1.19500585, 0.99120055, 1.73017624, 1.54312591, 0.69759266,\n",
       "       0.89810977, 1.22416309, 1.66341943, 1.29240393, 1.35868681,\n",
       "       1.08475609, 0.96599726, 1.64050242, 0.92170372, 0.97078176,\n",
       "       1.04741314, 1.41260053, 1.50603483, 1.27502455, 1.38582344,\n",
       "       1.09189679, 1.09014268, 0.10794048, 1.5506919 , 1.01841427,\n",
       "       1.48616196, 1.59531224, 1.33182255, 1.2010628 , 0.85659336,\n",
       "       1.26078865, 1.36026478, 1.02238076, 0.76662827, 0.98268834,\n",
       "       0.9452029 , 1.18447922, 1.51675384, 1.42621059, 1.30617208,\n",
       "       1.4722093 , 1.21896173, 1.02094842, 1.95604043, 0.88870175,\n",
       "       1.51985095, 0.90511188, 0.91380534, 1.88019434, 1.03740032,\n",
       "       1.42471663, 0.89470342, 0.95133717, 0.91177878, 0.87364664,\n",
       "       0.95691565, 1.11428619, 1.61581353])"
      ]
     },
     "execution_count": 65,
     "metadata": {},
     "output_type": "execute_result"
    }
   ],
   "source": [
    "preds"
   ]
  },
  {
   "cell_type": "code",
   "execution_count": 66,
   "metadata": {},
   "outputs": [],
   "source": [
    "def cal_ISE(X_train, y_train, model):\n",
    "    predictions = model.predict(X_train)\n",
    "    mse = mean_squared_error(y_train, predictions)\n",
    "    rmse = np.sqrt(mse)\n",
    "    return model.score(X_train, y_train), rmse"
   ]
  },
  {
   "cell_type": "code",
   "execution_count": 67,
   "metadata": {},
   "outputs": [],
   "source": [
    "def cal_OSE(X_test, y_test, model):\n",
    "    predictions = model.predict(X_test)\n",
    "    mse = mean_squared_error(y_test, predictions)\n",
    "    rmse = np.sqrt(mse)\n",
    "    return model.score(X_test, y_test), rmse"
   ]
  },
  {
   "cell_type": "code",
   "execution_count": 68,
   "metadata": {},
   "outputs": [],
   "source": [
    "is_r2, ise = cal_ISE(X_train, y_train, reg)\n",
    "os_r2, ose = cal_OSE(X_test, y_test, reg)"
   ]
  },
  {
   "cell_type": "code",
   "execution_count": 69,
   "metadata": {},
   "outputs": [],
   "source": [
    "data_list = (('R^2_in ',is_r2), ('R^2_out ', os_r2), ('ISE ', ise), ('OSE', ose))"
   ]
  },
  {
   "cell_type": "code",
   "execution_count": 70,
   "metadata": {},
   "outputs": [
    {
     "name": "stdout",
     "output_type": "stream",
     "text": [
      "R^2_in    : 0.035284100732367984\n",
      "R^2_out   : -0.007850852062401659\n",
      "ISE       : 1.3848983999218563\n",
      "OSE       : 1.375142237352548\n"
     ]
    }
   ],
   "source": [
    "for item in data_list:\n",
    "    print('{:10}: {}' .format(item[0], item[1]))"
   ]
  },
  {
   "cell_type": "markdown",
   "metadata": {},
   "source": [
    "Clearly test error(OSE) is near to the training error(ISE). i.e our model is ok.\n",
    "OSE: Out of sample Error\n",
    "ISE: In-sample Error"
   ]
  },
  {
   "cell_type": "code",
   "execution_count": 72,
   "metadata": {},
   "outputs": [
    {
     "name": "stdout",
     "output_type": "stream",
     "text": [
      "train/test: 0.9929553225205121\n"
     ]
    }
   ],
   "source": [
    "print('train/test:', ose/ise)"
   ]
  },
  {
   "cell_type": "code",
   "execution_count": 73,
   "metadata": {},
   "outputs": [
    {
     "name": "stdout",
     "output_type": "stream",
     "text": [
      "RMSE:  1.375142237352548\n"
     ]
    }
   ],
   "source": [
    "rmse = np.sqrt(mean_squared_error(y_test, preds))\n",
    "print('RMSE: ', rmse)"
   ]
  },
  {
   "cell_type": "code",
   "execution_count": null,
   "metadata": {},
   "outputs": [],
   "source": []
  },
  {
   "cell_type": "code",
   "execution_count": null,
   "metadata": {},
   "outputs": [],
   "source": []
  }
 ],
 "metadata": {
  "kernelspec": {
   "display_name": "Python 3",
   "language": "python",
   "name": "python3"
  },
  "language_info": {
   "codemirror_mode": {
    "name": "ipython",
    "version": 3
   },
   "file_extension": ".py",
   "mimetype": "text/x-python",
   "name": "python",
   "nbconvert_exporter": "python",
   "pygments_lexer": "ipython3",
   "version": "3.7.4"
  }
 },
 "nbformat": 4,
 "nbformat_minor": 2
}
